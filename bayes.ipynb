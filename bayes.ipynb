{
 "cells": [
  {
   "cell_type": "code",
   "execution_count": 1,
   "metadata": {},
   "outputs": [],
   "source": [
    "# !pip install scikit-learn\n",
    "# !pip install pandas \n",
    "# !pip install numpy\n",
    "# !pip install kaggle\n",
    "# !pip install pyreadr\n"
   ]
  },
  {
   "cell_type": "code",
   "execution_count": 2,
   "metadata": {},
   "outputs": [
    {
     "name": "stderr",
     "output_type": "stream",
     "text": [
      "c:\\Users\\91868\\anaconda3\\envs\\btp\\lib\\site-packages\\tqdm\\auto.py:21: TqdmWarning: IProgress not found. Please update jupyter and ipywidgets. See https://ipywidgets.readthedocs.io/en/stable/user_install.html\n",
      "  from .autonotebook import tqdm as notebook_tqdm\n"
     ]
    }
   ],
   "source": [
    "import os\n",
    "import shutil\n",
    "from sklearn import naive_bayes\n",
    "import pandas as pd\n",
    "import numpy as np\n",
    "import re\n",
    "from datasets import load_dataset\n",
    "import kaggle\n",
    "import pyreadr"
   ]
  },
  {
   "cell_type": "code",
   "execution_count": 5,
   "metadata": {},
   "outputs": [
    {
     "data": {
      "text/html": [
       "<div>\n",
       "<style scoped>\n",
       "    .dataframe tbody tr th:only-of-type {\n",
       "        vertical-align: middle;\n",
       "    }\n",
       "\n",
       "    .dataframe tbody tr th {\n",
       "        vertical-align: top;\n",
       "    }\n",
       "\n",
       "    .dataframe thead th {\n",
       "        text-align: right;\n",
       "    }\n",
       "</style>\n",
       "<table border=\"1\" class=\"dataframe\">\n",
       "  <thead>\n",
       "    <tr style=\"text-align: right;\">\n",
       "      <th></th>\n",
       "      <th>name</th>\n",
       "      <th>gender</th>\n",
       "      <th>diagnosis</th>\n",
       "    </tr>\n",
       "  </thead>\n",
       "  <tbody>\n",
       "    <tr>\n",
       "      <th>0</th>\n",
       "      <td>barjraj</td>\n",
       "      <td>m</td>\n",
       "      <td>This patient's history of recurrent kidney sto...</td>\n",
       "    </tr>\n",
       "    <tr>\n",
       "      <th>1</th>\n",
       "      <td>ramdin verma</td>\n",
       "      <td>m</td>\n",
       "      <td>This child's symptoms of a red, bulging tympan...</td>\n",
       "    </tr>\n",
       "    <tr>\n",
       "      <th>2</th>\n",
       "      <td>sharat chandran</td>\n",
       "      <td>m</td>\n",
       "      <td>While the symptoms might initially suggest ast...</td>\n",
       "    </tr>\n",
       "    <tr>\n",
       "      <th>3</th>\n",
       "      <td>birender mandal</td>\n",
       "      <td>m</td>\n",
       "      <td>The patient's symptoms suggest an incarcerated...</td>\n",
       "    </tr>\n",
       "    <tr>\n",
       "      <th>4</th>\n",
       "      <td>amit</td>\n",
       "      <td>m</td>\n",
       "      <td>The infant's symptoms suggest neonatal conjunc...</td>\n",
       "    </tr>\n",
       "  </tbody>\n",
       "</table>\n",
       "</div>"
      ],
      "text/plain": [
       "              name gender                                          diagnosis\n",
       "0          barjraj      m  This patient's history of recurrent kidney sto...\n",
       "1     ramdin verma      m  This child's symptoms of a red, bulging tympan...\n",
       "2  sharat chandran      m  While the symptoms might initially suggest ast...\n",
       "3  birender mandal      m  The patient's symptoms suggest an incarcerated...\n",
       "4             amit      m  The infant's symptoms suggest neonatal conjunc..."
      ]
     },
     "execution_count": 5,
     "metadata": {},
     "output_type": "execute_result"
    }
   ],
   "source": [
    "# Load the data\n",
    "data1 = pd.read_csv('Indian-Male-Names.csv')\n",
    "data2 = pd.read_csv('Indian-Female-Names.csv')\n",
    "diagnosis = pd.DataFrame(load_dataset('BI55/MedText')['train'])\n",
    "\n",
    "# data = pd.read_csv('Test_data.csv', index_col=0)\n",
    "data = pd.concat([data1, data2])\n",
    "data = data[['name', 'gender']]\n",
    "\n",
    "# duplicate the diagnosis['Completion'] column and add it to data dataframe under a new column as diagnosis\n",
    "data['diagnosis'] = diagnosis['Completion']\n",
    "\n",
    "data.dropna(inplace=True)\n",
    "data.head()\n"
   ]
  },
  {
   "cell_type": "code",
   "execution_count": 8,
   "metadata": {},
   "outputs": [
    {
     "data": {
      "text/plain": [
       "(2814, 3)"
      ]
     },
     "execution_count": 8,
     "metadata": {},
     "output_type": "execute_result"
    }
   ],
   "source": [
    "data.shape"
   ]
  },
  {
   "cell_type": "code",
   "execution_count": 29,
   "metadata": {},
   "outputs": [
    {
     "data": {
      "text/html": [
       "<div>\n",
       "<style scoped>\n",
       "    .dataframe tbody tr th:only-of-type {\n",
       "        vertical-align: middle;\n",
       "    }\n",
       "\n",
       "    .dataframe tbody tr th {\n",
       "        vertical-align: top;\n",
       "    }\n",
       "\n",
       "    .dataframe thead th {\n",
       "        text-align: right;\n",
       "    }\n",
       "</style>\n",
       "<table border=\"1\" class=\"dataframe\">\n",
       "  <thead>\n",
       "    <tr style=\"text-align: right;\">\n",
       "      <th></th>\n",
       "      <th>name</th>\n",
       "      <th>gender</th>\n",
       "      <th>diagnosis</th>\n",
       "      <th>phone</th>\n",
       "    </tr>\n",
       "  </thead>\n",
       "  <tbody>\n",
       "    <tr>\n",
       "      <th>0</th>\n",
       "      <td>barjraj</td>\n",
       "      <td>m</td>\n",
       "      <td>This patient's history of recurrent kidney sto...</td>\n",
       "      <td>1786848624</td>\n",
       "    </tr>\n",
       "    <tr>\n",
       "      <th>1</th>\n",
       "      <td>ramdin verma</td>\n",
       "      <td>m</td>\n",
       "      <td>This child's symptoms of a red, bulging tympan...</td>\n",
       "      <td>7044686989</td>\n",
       "    </tr>\n",
       "    <tr>\n",
       "      <th>2</th>\n",
       "      <td>sharat chandran</td>\n",
       "      <td>m</td>\n",
       "      <td>While the symptoms might initially suggest ast...</td>\n",
       "      <td>3926349674</td>\n",
       "    </tr>\n",
       "    <tr>\n",
       "      <th>3</th>\n",
       "      <td>birender mandal</td>\n",
       "      <td>m</td>\n",
       "      <td>The patient's symptoms suggest an incarcerated...</td>\n",
       "      <td>9722512950</td>\n",
       "    </tr>\n",
       "    <tr>\n",
       "      <th>4</th>\n",
       "      <td>amit</td>\n",
       "      <td>m</td>\n",
       "      <td>The infant's symptoms suggest neonatal conjunc...</td>\n",
       "      <td>7876111606</td>\n",
       "    </tr>\n",
       "  </tbody>\n",
       "</table>\n",
       "</div>"
      ],
      "text/plain": [
       "              name gender                                          diagnosis  \\\n",
       "0          barjraj      m  This patient's history of recurrent kidney sto...   \n",
       "1     ramdin verma      m  This child's symptoms of a red, bulging tympan...   \n",
       "2  sharat chandran      m  While the symptoms might initially suggest ast...   \n",
       "3  birender mandal      m  The patient's symptoms suggest an incarcerated...   \n",
       "4             amit      m  The infant's symptoms suggest neonatal conjunc...   \n",
       "\n",
       "        phone  \n",
       "0  1786848624  \n",
       "1  7044686989  \n",
       "2  3926349674  \n",
       "3  9722512950  \n",
       "4  7876111606  "
      ]
     },
     "execution_count": 29,
     "metadata": {},
     "output_type": "execute_result"
    }
   ],
   "source": [
    "# add a column in data dataframe for the phone number and fill it with random unique phone numbers\n",
    "data['phone'] = np.random.randint(1000000000, 9999999999, data.shape[0], dtype=np.int64)\n",
    "len(data['phone'].unique())\n",
    "data['phone']  = data['phone'].astype(str)\n",
    "data.head()"
   ]
  },
  {
   "cell_type": "code",
   "execution_count": 30,
   "metadata": {},
   "outputs": [],
   "source": [
    "def clean_data(data):\n",
    "    # remove non alpha characters from string\n",
    "    data['name'] = data['name'].str.lower() \n",
    "    data['name'] = data['name'].apply(lambda x: re.sub(r'[^a-z ]', '', x))\n",
    "    data = data.drop_duplicates()\n",
    "    data = data.dropna()\n",
    "    return data\n",
    "\n",
    "data = clean_data(data) "
   ]
  },
  {
   "cell_type": "code",
   "execution_count": 31,
   "metadata": {},
   "outputs": [],
   "source": [
    "# dataNew = data[]\n",
    "data.to_csv('Patient_data.csv')"
   ]
  },
  {
   "cell_type": "code",
   "execution_count": 10,
   "metadata": {},
   "outputs": [],
   "source": [
    "test_data = pd.read_csv('Sym2Dis\\Symptom2Disease.csv')"
   ]
  },
  {
   "cell_type": "code",
   "execution_count": 12,
   "metadata": {},
   "outputs": [
    {
     "name": "stdout",
     "output_type": "stream",
     "text": [
      "I have been experiencing a skin rash on my arms, legs, and torso for the past few weeks. It is red, itchy, and covered in dry, scaly patches.\n",
      "My skin has been peeling, especially on my knees, elbows, and scalp. This peeling is often accompanied by a burning or stinging sensation.\n",
      "I have been experiencing joint pain in my fingers, wrists, and knees. The pain is often achy and throbbing, and it gets worse when I move my joints.\n",
      "There is a silver like dusting on my skin, especially on my lower back and scalp. This dusting is made up of small scales that flake off easily when I scratch them.\n",
      "My nails have small dents or pits in them, and they often feel inflammatory and tender to the touch. Even there are minor rashes on my arms.\n"
     ]
    }
   ],
   "source": []
  },
  {
   "cell_type": "code",
   "execution_count": 9,
   "metadata": {},
   "outputs": [],
   "source": [
    "# !pip install sentence_transformers"
   ]
  },
  {
   "cell_type": "code",
   "execution_count": 4,
   "metadata": {},
   "outputs": [],
   "source": [
    "from sentence_transformers import SentenceTransformer\n",
    "from sklearn.metrics.pairwise import cosine_similarity\n",
    "from datasets import load_dataset\n",
    "# model = SentenceTransformer('pritamdeka/S-PubMedBert-MS-MARCO')"
   ]
  },
  {
   "cell_type": "code",
   "execution_count": 13,
   "metadata": {},
   "outputs": [],
   "source": [
    "model = SentenceTransformer('PubMedBert')"
   ]
  },
  {
   "cell_type": "code",
   "execution_count": 32,
   "metadata": {},
   "outputs": [
    {
     "data": {
      "text/plain": [
       "array([[0.8839421]], dtype=float32)"
      ]
     },
     "execution_count": 32,
     "metadata": {},
     "output_type": "execute_result"
    }
   ],
   "source": [
    "a, b = model.encode(['vomiting, headache, nausea, spinning movements', 'dizziness and loss of balance'])\n",
    "cosine_similarity([a], [b])"
   ]
  },
  {
   "cell_type": "code",
   "execution_count": 56,
   "metadata": {},
   "outputs": [
    {
     "name": "stderr",
     "output_type": "stream",
     "text": [
      "Downloading readme: 100%|██████████| 6.75k/6.75k [00:00<00:00, 5.11MB/s]\n",
      "Downloading data: 100%|██████████| 23.1k/23.1k [00:01<00:00, 12.5kB/s]\n",
      "Downloading data files: 100%|██████████| 1/1 [00:01<00:00,  1.86s/it]\n",
      "Extracting data files: 100%|██████████| 1/1 [00:00<00:00, 26.31it/s]\n",
      "Generating train split: 100%|██████████| 100/100 [00:00<00:00, 1456.16 examples/s]\n"
     ]
    }
   ],
   "source": [
    "symptom_data = load_dataset('duxprajapati/symptom-disease-dataset')\n",
    "sentence_pairs = load_dataset('biosses')"
   ]
  },
  {
   "cell_type": "code",
   "execution_count": 58,
   "metadata": {},
   "outputs": [],
   "source": [
    "data = pd.DataFrame(symptom_data['train'])\n",
    "pairs = pd.DataFrame(sentence_pairs['train'])"
   ]
  },
  {
   "cell_type": "code",
   "execution_count": 41,
   "metadata": {},
   "outputs": [],
   "source": [
    "new_data = data[data['label']==186].reset_index(drop=True)['text']"
   ]
  },
  {
   "cell_type": "code",
   "execution_count": 63,
   "metadata": {},
   "outputs": [
    {
     "data": {
      "text/plain": [
       "'Here, looking for agents that could specifically kill KRAS mutant cells, they found that knockdown of GATA2 was synthetically lethal with KRAS mutation'"
      ]
     },
     "execution_count": 63,
     "metadata": {},
     "output_type": "execute_result"
    }
   ],
   "source": [
    "pairs.iloc[0]['sentence1']"
   ]
  },
  {
   "cell_type": "code",
   "execution_count": 51,
   "metadata": {},
   "outputs": [
    {
     "name": "stdout",
     "output_type": "stream",
     "text": [
      "I've been having back pain, a cough, and numbness in my arms and legs. My neck hurts too, and I've been feeling dizzy and off balance.\n",
      "I also have problems with vertigo and losing my balance, and my neck hurts.\n"
     ]
    }
   ],
   "source": [
    "print(new_data[0])\n",
    "print(new_data[6].split('. ')[1])"
   ]
  },
  {
   "cell_type": "code",
   "execution_count": 55,
   "metadata": {},
   "outputs": [
    {
     "name": "stdout",
     "output_type": "stream",
     "text": [
      "I have been having migraines and headaches. I can't sleep. My whole body is shaking and shivering. I feel dizzy sometimes.\n",
      "I have asthma and I get wheezing and breathing problems. I also have fevers, headaches, and I feel tired all the time.\n"
     ]
    }
   ],
   "source": [
    "print(data['text'][0])\n",
    "print(data['text'][1])"
   ]
  }
 ],
 "metadata": {
  "kernelspec": {
   "display_name": ".venv",
   "language": "python",
   "name": "python3"
  },
  "language_info": {
   "codemirror_mode": {
    "name": "ipython",
    "version": 3
   },
   "file_extension": ".py",
   "mimetype": "text/x-python",
   "name": "python",
   "nbconvert_exporter": "python",
   "pygments_lexer": "ipython3",
   "version": "3.9.16"
  }
 },
 "nbformat": 4,
 "nbformat_minor": 2
}
